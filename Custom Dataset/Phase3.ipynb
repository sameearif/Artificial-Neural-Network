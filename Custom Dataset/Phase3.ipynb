{
  "nbformat": 4,
  "nbformat_minor": 0,
  "metadata": {
    "colab": {
      "name": "group01_Phase3.ipynb",
      "provenance": [],
      "collapsed_sections": []
    },
    "kernelspec": {
      "display_name": "Python 3",
      "name": "python3"
    },
    "language_info": {
      "name": "python"
    },
    "widgets": {
      "application/vnd.jupyter.widget-state+json": {
        "61a441c10a8a4926adb11103c8dfa9b4": {
          "model_module": "@jupyter-widgets/controls",
          "model_name": "HBoxModel",
          "state": {
            "_view_name": "HBoxView",
            "_dom_classes": [],
            "_model_name": "HBoxModel",
            "_view_module": "@jupyter-widgets/controls",
            "_model_module_version": "1.5.0",
            "_view_count": null,
            "_view_module_version": "1.5.0",
            "box_style": "",
            "layout": "IPY_MODEL_5e4bdf6be9e841c8a84c20c09f0f29bf",
            "_model_module": "@jupyter-widgets/controls",
            "children": [
              "IPY_MODEL_8702b70442464e1d94bf3e354e38acb8",
              "IPY_MODEL_1460f1c950a546f8abf884de46786881"
            ]
          }
        },
        "5e4bdf6be9e841c8a84c20c09f0f29bf": {
          "model_module": "@jupyter-widgets/base",
          "model_name": "LayoutModel",
          "state": {
            "_view_name": "LayoutView",
            "grid_template_rows": null,
            "right": null,
            "justify_content": null,
            "_view_module": "@jupyter-widgets/base",
            "overflow": null,
            "_model_module_version": "1.2.0",
            "_view_count": null,
            "flex_flow": null,
            "width": null,
            "min_width": null,
            "border": null,
            "align_items": null,
            "bottom": null,
            "_model_module": "@jupyter-widgets/base",
            "top": null,
            "grid_column": null,
            "overflow_y": null,
            "overflow_x": null,
            "grid_auto_flow": null,
            "grid_area": null,
            "grid_template_columns": null,
            "flex": null,
            "_model_name": "LayoutModel",
            "justify_items": null,
            "grid_row": null,
            "max_height": null,
            "align_content": null,
            "visibility": null,
            "align_self": null,
            "height": null,
            "min_height": null,
            "padding": null,
            "grid_auto_rows": null,
            "grid_gap": null,
            "max_width": null,
            "order": null,
            "_view_module_version": "1.2.0",
            "grid_template_areas": null,
            "object_position": null,
            "object_fit": null,
            "grid_auto_columns": null,
            "margin": null,
            "display": null,
            "left": null
          }
        },
        "8702b70442464e1d94bf3e354e38acb8": {
          "model_module": "@jupyter-widgets/controls",
          "model_name": "FloatProgressModel",
          "state": {
            "_view_name": "ProgressView",
            "style": "IPY_MODEL_85ab66c04bba42178dfe5d1bca6eb043",
            "_dom_classes": [],
            "description": "100%",
            "_model_name": "FloatProgressModel",
            "bar_style": "success",
            "max": 100,
            "_view_module": "@jupyter-widgets/controls",
            "_model_module_version": "1.5.0",
            "value": 100,
            "_view_count": null,
            "_view_module_version": "1.5.0",
            "orientation": "horizontal",
            "min": 0,
            "description_tooltip": null,
            "_model_module": "@jupyter-widgets/controls",
            "layout": "IPY_MODEL_714644d858fe45fd8a8c094768fad2fc"
          }
        },
        "1460f1c950a546f8abf884de46786881": {
          "model_module": "@jupyter-widgets/controls",
          "model_name": "HTMLModel",
          "state": {
            "_view_name": "HTMLView",
            "style": "IPY_MODEL_4d3a8882a0214732a3b9ba8767142a57",
            "_dom_classes": [],
            "description": "",
            "_model_name": "HTMLModel",
            "placeholder": "​",
            "_view_module": "@jupyter-widgets/controls",
            "_model_module_version": "1.5.0",
            "value": " 100/100 [2:10:37&lt;00:00, 78.38s/it]",
            "_view_count": null,
            "_view_module_version": "1.5.0",
            "description_tooltip": null,
            "_model_module": "@jupyter-widgets/controls",
            "layout": "IPY_MODEL_57b678b61d7d46a19e034905b3ccf816"
          }
        },
        "85ab66c04bba42178dfe5d1bca6eb043": {
          "model_module": "@jupyter-widgets/controls",
          "model_name": "ProgressStyleModel",
          "state": {
            "_view_name": "StyleView",
            "_model_name": "ProgressStyleModel",
            "description_width": "initial",
            "_view_module": "@jupyter-widgets/base",
            "_model_module_version": "1.5.0",
            "_view_count": null,
            "_view_module_version": "1.2.0",
            "bar_color": null,
            "_model_module": "@jupyter-widgets/controls"
          }
        },
        "714644d858fe45fd8a8c094768fad2fc": {
          "model_module": "@jupyter-widgets/base",
          "model_name": "LayoutModel",
          "state": {
            "_view_name": "LayoutView",
            "grid_template_rows": null,
            "right": null,
            "justify_content": null,
            "_view_module": "@jupyter-widgets/base",
            "overflow": null,
            "_model_module_version": "1.2.0",
            "_view_count": null,
            "flex_flow": null,
            "width": null,
            "min_width": null,
            "border": null,
            "align_items": null,
            "bottom": null,
            "_model_module": "@jupyter-widgets/base",
            "top": null,
            "grid_column": null,
            "overflow_y": null,
            "overflow_x": null,
            "grid_auto_flow": null,
            "grid_area": null,
            "grid_template_columns": null,
            "flex": null,
            "_model_name": "LayoutModel",
            "justify_items": null,
            "grid_row": null,
            "max_height": null,
            "align_content": null,
            "visibility": null,
            "align_self": null,
            "height": null,
            "min_height": null,
            "padding": null,
            "grid_auto_rows": null,
            "grid_gap": null,
            "max_width": null,
            "order": null,
            "_view_module_version": "1.2.0",
            "grid_template_areas": null,
            "object_position": null,
            "object_fit": null,
            "grid_auto_columns": null,
            "margin": null,
            "display": null,
            "left": null
          }
        },
        "4d3a8882a0214732a3b9ba8767142a57": {
          "model_module": "@jupyter-widgets/controls",
          "model_name": "DescriptionStyleModel",
          "state": {
            "_view_name": "StyleView",
            "_model_name": "DescriptionStyleModel",
            "description_width": "",
            "_view_module": "@jupyter-widgets/base",
            "_model_module_version": "1.5.0",
            "_view_count": null,
            "_view_module_version": "1.2.0",
            "_model_module": "@jupyter-widgets/controls"
          }
        },
        "57b678b61d7d46a19e034905b3ccf816": {
          "model_module": "@jupyter-widgets/base",
          "model_name": "LayoutModel",
          "state": {
            "_view_name": "LayoutView",
            "grid_template_rows": null,
            "right": null,
            "justify_content": null,
            "_view_module": "@jupyter-widgets/base",
            "overflow": null,
            "_model_module_version": "1.2.0",
            "_view_count": null,
            "flex_flow": null,
            "width": null,
            "min_width": null,
            "border": null,
            "align_items": null,
            "bottom": null,
            "_model_module": "@jupyter-widgets/base",
            "top": null,
            "grid_column": null,
            "overflow_y": null,
            "overflow_x": null,
            "grid_auto_flow": null,
            "grid_area": null,
            "grid_template_columns": null,
            "flex": null,
            "_model_name": "LayoutModel",
            "justify_items": null,
            "grid_row": null,
            "max_height": null,
            "align_content": null,
            "visibility": null,
            "align_self": null,
            "height": null,
            "min_height": null,
            "padding": null,
            "grid_auto_rows": null,
            "grid_gap": null,
            "max_width": null,
            "order": null,
            "_view_module_version": "1.2.0",
            "grid_template_areas": null,
            "object_position": null,
            "object_fit": null,
            "grid_auto_columns": null,
            "margin": null,
            "display": null,
            "left": null
          }
        }
      }
    }
  },
  "cells": [
    {
      "cell_type": "markdown",
      "metadata": {
        "id": "SYT-2x47-sjY"
      },
      "source": [
        "# CS331 - Spring 2021 - Phase 3 [5%]\n",
        "\n",
        "*__Submission Guidelines:__*\n",
        "- Naming convention for submission of this notebook is `groupXX_Phase3.ipynb` where XX needs to be replaced by your group number. For example: group 1 would rename their notebook to `group01_Phase3.ipynb`\n",
        "- Only the group lead is supposed to make the submission\n",
        "- You need to submit this file as an .ipynb along with a .zip file of your own dataset and a document via LMS \n",
        "- The naming convention for the dataset is `groupXX_Dataset.zip`. Replace XX with the group number. The dataset <b>must</b> be a .zip file\n",
        "- For the document, the naming convention is `groupXX_Document.pdf` where XX needs to be replaced by your group number. In the document, you have to tell why you chose the preprocessing methods that you chose and also justify the choice of network and the hyperparamters. Essentially, document the process of phase 3. The document should not be longer than 2 pages and less than 1 page\n",
        "- All the cells <b>must</b> be run once before submission. If your submission's cells are not showing the results (plots etc.), marks wil be deducted\n",
        "- Only the code written within this notebook will be considered while grading. No other files will be entertained\n",
        "- You are advised to follow good programming practies including approriate variable naming and making use of logical comments \n",
        "\n",
        "The university honor code should be maintained. Any violation, if found, will result in disciplinary action. \n"
      ]
    },
    {
      "cell_type": "markdown",
      "metadata": {
        "id": "zpC12Mye-9uZ"
      },
      "source": [
        "#### <b>Introduction</b> \n",
        "This is the final phase of this offering's project. By now you guys have managed to build a multi-layer NN from scratch which is capable of scoring decent accuracy on the Fashion MNIST dataset. In this phase, we are going to shift our focus to the process of data engineering. You will be creating your own dataset (details will be disclosed as you follow along), you will have to carry out some preprocessing on this dataset of yours and will use this to evaluate your network from phase 2. This will also involove the tedious process of tweaking the hyperparamters so that your network scores higher accuracy scores on your own, novel, dataset\n",
        "\n",
        "###### <b>IMPORTANT\n",
        "\n",
        "###### Modification of the provided code without prior discussion with the TAs will result in a grade deduction</b>\n",
        "\n",
        "---\n",
        "\n",
        "###### <b>Side note</b>\n",
        "The `plot_model` method will only work if you have the `pydot` python package installed along with [Graphviz](https://graphviz.gitlab.io/download/). If you do not wish to use this then simply comment out the import for `pydot`\n",
        "\n",
        "###### <b>Need Help?</b>\n",
        "If you need help, please refer to the course staff ASAP and do not wait till the last moment as they might not be available on very short notice close to deadlines"
      ]
    },
    {
      "cell_type": "markdown",
      "metadata": {
        "id": "idDbgABDBuvZ"
      },
      "source": [
        "#### <b>PART 1</b>\n",
        "\n",
        "This part is essentially the copy pasting of the codes from cells of your phase 2's notebook to the cells of this notebook. The intent is to replicate your phase 2's network and train (using the same OR different hyperparamters) it so that it can be used to evlaute the novel dataset (that will be part 2 of this phase)"
      ]
    },
    {
      "cell_type": "code",
      "metadata": {
        "id": "s0OE_p0V-q-H"
      },
      "source": [
        "# making all the necessary imports here\n",
        "\n",
        "import numpy as np\n",
        "import pandas as pd\n",
        "import time\n",
        "%matplotlib inline\n",
        "import matplotlib.pyplot as plt\n",
        "plt.style.use('seaborn')\n",
        "from IPython.display import Image\n",
        "import pydot\n",
        "from tqdm import tqdm_notebook\n",
        "import seaborn as sns\n",
        "from keras.datasets import fashion_mnist\n",
        "from sklearn.model_selection import train_test_split\n",
        "from keras.utils import np_utils\n",
        "from sklearn.datasets import make_moons\n",
        "from sklearn.linear_model import LinearRegression, LogisticRegression\n",
        "from sklearn.metrics import confusion_matrix,classification_report\n",
        "from google.colab import drive\n",
        "import glob\n",
        "import cv2\n",
        "from google.colab.patches import cv2_imshow\n",
        "import skimage.exposure"
      ],
      "execution_count": 294,
      "outputs": []
    },
    {
      "cell_type": "code",
      "metadata": {
        "id": "sz6xWsK3B-k4"
      },
      "source": [
        "# This function will be used to plot the confusion matrix at the end of this notebook\n",
        "\n",
        "def plot_confusion_matrix(conf_mat):\n",
        "    classes = ['T-shirt/top','Trouser/pants','Pullover shirt','Dress','Coat','Sandal','Shirt','Sneaker','Bag','Ankle boot']\n",
        "    df_cm = pd.DataFrame(conf_mat,classes,classes)\n",
        "    plt.figure(figsize=(15,9))\n",
        "    sns.set(font_scale=1.4)\n",
        "    sns.heatmap(df_cm, annot=True,annot_kws={\"size\": 16})\n",
        "    plt.show()\n",
        "\n",
        "class_labels = ['T-shirt/top','Trouser/pants','Pullover shirt','Dress','Coat','Sandal','Shirt','Sneaker','Bag','Ankle boot']"
      ],
      "execution_count": 295,
      "outputs": []
    },
    {
      "cell_type": "code",
      "metadata": {
        "id": "J8vdVLQ0B_bd"
      },
      "source": [
        "# Enter group lead's roll number here. This will be used for plotting purposes\n",
        "\n",
        "rollnumber = 23100088"
      ],
      "execution_count": 296,
      "outputs": []
    },
    {
      "cell_type": "markdown",
      "metadata": {
        "id": "MK2xKOxzCqgE"
      },
      "source": [
        "#### __Dataset from Keras Library__\n",
        "\n",
        "The required library has been imported for you as fashion_mnist. Use it to load the train and test data accordingly."
      ]
    },
    {
      "cell_type": "code",
      "metadata": {
        "colab": {
          "base_uri": "https://localhost:8080/"
        },
        "id": "2ehOJSGECqOD",
        "outputId": "700ac1c2-1106-478e-80a8-e4f18bf8f523"
      },
      "source": [
        "classes = 10 # Do not change this\n",
        "\n",
        "# Download Fashion MNIST dataset\n",
        "###### Code Here ######\n",
        "data_set = fashion_mnist.load_data()\n",
        "\n",
        "# Split the fashion MNIST dataset into train and test sets\n",
        "# Convert y_train and y_test to categorical binary values \n",
        "###### Code Here ######\n",
        "X_train_temp = data_set[0][0]\n",
        "y_train_temp = data_set[0][1]\n",
        "X_test_temp = data_set[1][0]\n",
        "y_test_temp = data_set[1][1]\n",
        "trainy = np_utils.to_categorical(y_train_temp)\n",
        "testy = np_utils.to_categorical(y_test_temp)\n",
        "\n",
        "#Reshape train and test images as one-dimensional arrays\n",
        "###### Code Here ######\n",
        "test_data = []\n",
        "for i in range(X_test_temp.shape[0]):\n",
        "  my_image = X_test_temp[i]\n",
        "  normalized_image = (my_image - np.mean(my_image))/np.std(my_image)\n",
        "  flatten_image = normalized_image.flatten()\n",
        "  test_data.append(flatten_image)\n",
        "testX = np.array(test_data)\n",
        "\n",
        "train_data = []\n",
        "for i in range(X_train_temp.shape[0]):\n",
        "  my_image = X_train_temp[i]\n",
        "  normalized_image = (my_image - np.mean(my_image))/np.std(my_image)\n",
        "  flatten_image = normalized_image.flatten()\n",
        "  train_data.append(flatten_image)\n",
        "trainX = np.array(train_data)\n",
        "\n",
        "print(\"Number of training sample: \", len(trainX))\n",
        "print(\"Number of testing sample: \", len(testX))"
      ],
      "execution_count": 297,
      "outputs": [
        {
          "output_type": "stream",
          "text": [
            "Number of training sample:  60000\n",
            "Number of testing sample:  10000\n"
          ],
          "name": "stdout"
        }
      ]
    },
    {
      "cell_type": "markdown",
      "metadata": {
        "id": "BLeZFElYFINX"
      },
      "source": [
        "#### __NN Implementation__\n",
        "Your implementation of NN needs to use the `sigmoid` activation function for all hidden layers and the `softmax` activation function for the output layer. The NN model you will be creating here will consits of only three layers: 1 input layer, n hidden layers (where you have the liberty to define n) and 1 output layer."
      ]
    },
    {
      "cell_type": "code",
      "metadata": {
        "id": "rVq8Oq-MD2wZ"
      },
      "source": [
        "class LessHiddenLayers(Exception):\n",
        "    def __init__(self, message):\n",
        "      self.message = message\n",
        "\n",
        "class NeuralNetwork():\n",
        "    @staticmethod\n",
        "    def cross_entropy_loss(y_pred, y_true):\n",
        "        # implement cross_entropy_loss function\n",
        "        #TO DO\n",
        "        entropy_loss = -(y_true * np.log(y_pred)).sum()\n",
        "        return entropy_loss\n",
        "\n",
        "    @staticmethod\n",
        "    def accuracy(y_pred, y_true):\n",
        "        # implement accuracy function\n",
        "        #TO DO\n",
        "        accuracy = np.sum(y_pred == y_true)\n",
        "        return (accuracy/y_pred.shape[0]) * 100\n",
        "\n",
        "    @staticmethod\n",
        "    def softmax(x):\n",
        "        # implement softmax function\n",
        "        #TO DO\n",
        "        take_exponent = np.exp(x)\n",
        "        soft_max = take_exponent / take_exponent.sum(axis=1, keepdims=True)\n",
        "        return soft_max\n",
        "\n",
        "    @staticmethod\n",
        "    def sigmoid(x):\n",
        "        #TO DO\n",
        "        sigmoid_function = 1/(1 + np.exp(-x))\n",
        "        return sigmoid_function\n",
        "\n",
        "    def __init__(self, nodes_per_layer):\n",
        "        '''Creates a Feed-Forward Neural Network.\n",
        "        The parameters represent the number of nodes in each layer. \n",
        "        Look at the inputs to the function, and use 'try and accept'\n",
        "        to catch errors if number of layers are < 2.\n",
        "        '''\n",
        "        error = False\n",
        "        try:\n",
        "          if len(nodes_per_layer) == 3:\n",
        "            raise Exception\n",
        "          self.num_layers = len(nodes_per_layer) # including input and output layers\n",
        "          self.nodes_per_layer = nodes_per_layer\n",
        "          self.input_shape = nodes_per_layer[0]\n",
        "          self.output_shape = nodes_per_layer[-1]\n",
        "\n",
        "          self.weights_ = []\n",
        "          self.biases_ = []\n",
        "          self.__init_weights(nodes_per_layer)\n",
        "        except:\n",
        "          error = True\n",
        "        \n",
        "        if error:\n",
        "          raise LessHiddenLayers(\"Number of hidden layers should be more than 1.\")\n",
        "\n",
        "    def __init_weights(self, nodes_per_layer):\n",
        "        '''Initializes all weights based on standard normal distribution and all biases to 0.'''\n",
        "        '''Initialize weights for each layer except the input layer, since it does not have weights.'''\n",
        "        \n",
        "        ###### Code Here ######\n",
        "        for i in range(1, len(nodes_per_layer) - 1):\n",
        "          W_h = np.random.normal(size=(nodes_per_layer[i - 1], nodes_per_layer[i])) * np.sqrt(2/(nodes_per_layer[i - 1] + nodes_per_layer[i]))\n",
        "          b_h = np.zeros(shape=(nodes_per_layer[i],))\n",
        "          self.weights_.append(W_h)\n",
        "          self.biases_.append(b_h)\n",
        "\n",
        "        W_o = np.random.normal(size=(nodes_per_layer[len(nodes_per_layer) - 2], nodes_per_layer[-1])) * np.sqrt(2/(nodes_per_layer[len(nodes_per_layer) - 2] + nodes_per_layer[-1]))\n",
        "        b_o = np.zeros(shape=(nodes_per_layer[-1],))\n",
        "        self.weights_.append(W_o)\n",
        "        self.biases_.append(b_o)\n",
        "    \n",
        "    def forward_pass(self, input_data):\n",
        "        '''Executes the feed forward algorithm.\n",
        "        \"input_data\" is the input to the network in row-major form\n",
        "        Returns \"activations\", which is a list of all layer outputs (excluding input layer of course)'''\n",
        "        \n",
        "        ###### Code Here ######\n",
        "        activations = []\n",
        "        hidden_layer_activations = input_data\n",
        "        for i in range(0, len(self.weights_) - 1):\n",
        "          hidden_layer_activations = np.matmul(hidden_layer_activations, self.weights_[i]) + self.biases_[i]\n",
        "          hidden_layer_activations = self.sigmoid(hidden_layer_activations)\n",
        "          activations.append(hidden_layer_activations)\n",
        "\n",
        "        output_layer_activations = np.matmul(hidden_layer_activations, self.weights_[-1]) + self.biases_[-1]\n",
        "        output_layer_activations = self.softmax(output_layer_activations)\n",
        "        activations.append(output_layer_activations)\n",
        "\n",
        "        return activations\n",
        "\n",
        "    def backward_pass(self, targets, layer_activations):\n",
        "        '''Executes the backpropogation algorithm.\n",
        "        \"targets\" is the ground truth/labels\n",
        "        \"layer_activations\" are the return value of the forward pass step\n",
        "        Returns \"deltas\", which is a list containing weight update values for all layers (excluding the input layer of course)'''\n",
        "        \n",
        "        ###### Code Here ######\n",
        "        deltas = []\n",
        "        dError_dOutput = layer_activations[-1] - targets\n",
        "        dError_dInput = dError_dOutput\n",
        "        deltas.append(dError_dInput)\n",
        "\n",
        "        hidden_layer_number = len(layer_activations) - 2\n",
        "        for i in range(len(self.weights_) - 1, 0, -1):\n",
        "          dError_dOutput = np.matmul(dError_dInput, self.weights_[i].T)     \n",
        "          dOutput_dInput = np.multiply(layer_activations[hidden_layer_number], (1 - layer_activations[hidden_layer_number]))\n",
        "          hidden_layer_number -= 1\n",
        "          dError_dInput = np.multiply(dOutput_dInput, dError_dOutput)\n",
        "          deltas.append(dError_dInput)\n",
        "\n",
        "        return deltas\n",
        "    \n",
        "    def weight_update(self, deltas, layer_inputs, lr):\n",
        "        '''Executes the gradient descent algorithm.\n",
        "        \"deltas\" is return value of the backward pass step\n",
        "        \"layer_inputs\" is a list containing the inputs for all layers (including the input layer)\n",
        "        \"lr\" is the learning rate'''\n",
        "        \n",
        "        ###### Code Here ######\n",
        "        weight_number = 0\n",
        "        layer_number = 0\n",
        "        for i in range(len(deltas) - 1, 0, -1):\n",
        "          dInput_dWeight = layer_inputs[layer_number]\n",
        "          dError_dweight = np.matmul(dInput_dWeight.T, deltas[i])\n",
        "          self.weights_[weight_number] = self.weights_[weight_number] - (lr * dError_dweight)\n",
        "          self.biases_[weight_number] = self.biases_[weight_number] - (lr * np.sum(deltas[i], axis=0))\n",
        "          weight_number += 1\n",
        "          layer_number += 1\n",
        "        \n",
        "        dInput_dWeight = layer_inputs[-1]\n",
        "        dError_dweight = np.matmul(dInput_dWeight.T, deltas[0])\n",
        "        self.weights_[-1] = self.weights_[-1] - (lr * dError_dweight)\n",
        "        self.biases_[-1] = self.biases_[-1] -  (lr * np.sum(deltas[0], axis=0))\n",
        "  \n",
        "    \n",
        "    ###### Do Not Change Anything Below this line in This Cell ######\n",
        "    \n",
        "    def fit(self, Xs, Ys, epochs, lr=1e-3):\n",
        "            history = []\n",
        "            for epoch in tqdm_notebook(range(epochs)):\n",
        "                num_samples = Xs.shape[0]\n",
        "                for i in range(num_samples):\n",
        "\n",
        "                    sample_input = Xs[i,:].reshape((1,self.input_shape))\n",
        "                    sample_target = Ys[i,:].reshape((1,self.output_shape))\n",
        "                    \n",
        "                    activations = self.forward_pass(sample_input)   # Call forward_pass function \n",
        "                    deltas = self.backward_pass(sample_target, activations)    # Call backward_pass function \n",
        "                    layer_inputs = [sample_input] + activations[:-1]\n",
        "                    \n",
        "                    # Call weight_update function \n",
        "                    self.weight_update(deltas, layer_inputs, lr)\n",
        "                \n",
        "                preds = self.predict(Xs)   # Call predict function \n",
        "\n",
        "                current_loss = self.cross_entropy_loss(preds, Ys)\n",
        "                \n",
        "                if  epoch==epochs-1:\n",
        "                  confusion_mat=confusion_matrix(Ys.argmax(axis=1), preds.argmax(axis=1),labels=np.arange(10))  \n",
        "                  plot_confusion_matrix(confusion_mat)\n",
        "                  report = classification_report(Ys, np_utils.to_categorical(preds.argmax(axis=1),num_classes=classes), target_names=class_labels)\n",
        "                  print(report)\n",
        "                history.append(current_loss)\n",
        "            return history\n",
        "    \n",
        "    def predict(self, Xs):\n",
        "        '''Returns the model predictions (output of the last layer) for the given \"Xs\".'''\n",
        "        predictions = []\n",
        "        num_samples = Xs.shape[0]\n",
        "        for i in range(num_samples):\n",
        "            sample = Xs[i,:].reshape((1,self.input_shape))\n",
        "            sample_prediction = self.forward_pass(sample)[-1]\n",
        "            predictions.append(sample_prediction.reshape((self.output_shape,)))\n",
        "        return np.array(predictions)\n",
        "    \n",
        "    def evaluate(self, Xs, Ys):\n",
        "        '''Returns appropriate metrics for the task, calculated on the dataset passed to this method.'''\n",
        "        pred = self.predict(Xs)\n",
        "        return self.cross_entropy_loss(pred, Ys), self.accuracy(pred.argmax(axis=1), Ys.argmax(axis=1))\n",
        "    \n",
        "    def plot_model(self, filename):\n",
        "        '''Provide the \"filename\" as a string including file extension. Creates an image showing the model as a graph.'''\n",
        "        graph = pydot.Dot(graph_type='digraph')\n",
        "        graph.set_rankdir('LR')\n",
        "        graph.set_node_defaults(shape='circle', fontsize=0)\n",
        "        nodes_per_layer = [self.input_shape, self.hidden_shape, self.output_shape]\n",
        "        for i in range(self.num_layers-1):\n",
        "            for n1 in range(nodes_per_layer[i]):\n",
        "                for n2 in range(nodes_per_layer[i+1]):\n",
        "                    edge = pydot.Edge(f'l{i}n{n1}', f'l{i+1}n{n2}')\n",
        "                    graph.add_edge(edge)\n",
        "        graph.write_png(filename)"
      ],
      "execution_count": 298,
      "outputs": []
    },
    {
      "cell_type": "code",
      "metadata": {
        "id": "Ew6nN0HyfbSd"
      },
      "source": [
        "# These are what we call the hyperparameters (a.k.a Black Magic). You need to research on them and tweak them to see what generates the best result for you \n",
        "\n",
        "EPOCH = 100            # must be an int\n",
        "LEARNING_RATE = 0.001\n",
        "nodes_per_layer = [784, 128, 32, 10]  #int values for nodes of each layer. # of hidden layers >= 2. "
      ],
      "execution_count": 299,
      "outputs": []
    },
    {
      "cell_type": "code",
      "metadata": {
        "colab": {
          "base_uri": "https://localhost:8080/",
          "height": 1000,
          "referenced_widgets": [
            "61a441c10a8a4926adb11103c8dfa9b4",
            "5e4bdf6be9e841c8a84c20c09f0f29bf",
            "8702b70442464e1d94bf3e354e38acb8",
            "1460f1c950a546f8abf884de46786881",
            "85ab66c04bba42178dfe5d1bca6eb043",
            "714644d858fe45fd8a8c094768fad2fc",
            "4d3a8882a0214732a3b9ba8767142a57",
            "57b678b61d7d46a19e034905b3ccf816"
          ]
        },
        "id": "z6TTr8h1fo4l",
        "outputId": "ec527b7a-3f52-4c19-b2aa-2c957419aec9"
      },
      "source": [
        "start = time.time()\n",
        "\n",
        "# Instantiate the neural network with the number of nodes you choose per layer, right now it is done for three layers only.\n",
        "nn = NeuralNetwork(nodes_per_layer=nodes_per_layer)\n",
        "history = nn.fit(trainX, trainy, epochs=EPOCH, lr=LEARNING_RATE)\n",
        "plt.plot(history);\n",
        "plt.gca().set(xlabel='Epoch', ylabel='Cross-entropy', title='Training Plot {}'.format(rollnumber));\n",
        "end = time.time()\n",
        "\n",
        "print(\"Runtime of the algorithm is \", round((end - start),3),\" seconds\")\n",
        "\n",
        "# print accuracy on test set here\n",
        "# Copy Code Here\n",
        "print(nn.evaluate(testX, testy))"
      ],
      "execution_count": 300,
      "outputs": [
        {
          "output_type": "stream",
          "text": [
            "/usr/local/lib/python3.7/dist-packages/ipykernel_launcher.py:142: TqdmDeprecationWarning: This function will be removed in tqdm==5.0.0\n",
            "Please use `tqdm.notebook.tqdm` instead of `tqdm.tqdm_notebook`\n"
          ],
          "name": "stderr"
        },
        {
          "output_type": "display_data",
          "data": {
            "application/vnd.jupyter.widget-view+json": {
              "model_id": "61a441c10a8a4926adb11103c8dfa9b4",
              "version_minor": 0,
              "version_major": 2
            },
            "text/plain": [
              "HBox(children=(FloatProgress(value=0.0), HTML(value='')))"
            ]
          },
          "metadata": {
            "tags": []
          }
        },
        {
          "output_type": "display_data",
          "data": {
            "image/png": "[encoded data removed]",
            "text/plain": [
              "<Figure size 1080x648 with 2 Axes>"
            ]
          },
          "metadata": {
            "tags": []
          }
        },
        {
          "output_type": "stream",
          "text": [
            "                precision    recall  f1-score   support\n",
            "\n",
            "   T-shirt/top       0.94      0.99      0.96      6000\n",
            " Trouser/pants       1.00      1.00      1.00      6000\n",
            "Pullover shirt       0.97      0.95      0.96      6000\n",
            "         Dress       0.96      0.99      0.98      6000\n",
            "          Coat       0.95      0.94      0.95      6000\n",
            "        Sandal       1.00      1.00      1.00      6000\n",
            "         Shirt       0.97      0.91      0.94      6000\n",
            "       Sneaker       1.00      0.99      1.00      6000\n",
            "           Bag       1.00      1.00      1.00      6000\n",
            "    Ankle boot       0.99      1.00      1.00      6000\n",
            "\n",
            "     micro avg       0.98      0.98      0.98     60000\n",
            "     macro avg       0.98      0.98      0.98     60000\n",
            "  weighted avg       0.98      0.98      0.98     60000\n",
            "   samples avg       0.98      0.98      0.98     60000\n",
            "\n",
            "\n",
            "Runtime of the algorithm is  7837.577  seconds\n",
            "(5060.971671498776, 88.28)\n"
          ],
          "name": "stdout"
        },
        {
          "output_type": "display_data",
          "data": {
            "image/png": "[encoded data removed]",
            "text/plain": [
              "<Figure size 576x396 with 1 Axes>"
            ]
          },
          "metadata": {
            "tags": []
          }
        }
      ]
    },
    {
      "cell_type": "markdown",
      "metadata": {
        "id": "uXdl3d98idec"
      },
      "source": [
        "#### <b>PART 2</b>\n",
        "\n",
        "Now that your NN model has been replicated and trained, we move on to the actual part of this phase i.e. making your own dataset. The instruction for creating your own dataset are as follows:\n",
        "\n",
        "- Each group has to create a dataset of 50 images (preferred way to go about this is that each member takes 10 pictures for the dataset)\n",
        "- Make sure that all the classes/categories that are there in the Fashion MNIST dataset are covered in these 50 pictures. \n",
        "- Make sure that that there is no class imbalance in your dataset. Class imbalance is when one or more classes have more images/data than others\n",
        "- Once done with taking the pictures, add them into folders where the name of the folder will be the label of that image (for reference, you can have a look at how phase 1's dataset was organized as you essentially have to replicate that directory tree with the only difference is that there will only be `test` folder as this dataset is only being used for evaluation purposes)\n",
        "- Zip the dataset and upload it on your Google Drive. You will have to mount your drive and import your dataset in the same way as it was done in phase 1\n",
        "\n",
        "Once done, you will be reading the your dataset in the notebook and storing it in variables (please make sure that you are not overwriting any variable from Part 1). This will be followed by preprocessing that you will have to do on the images an finally, you will be able to evalute your model \n",
        "\n",
        "<b>Note: It is important that you know the classes/categories, shape and other information regarding the Fashion MNIST dataset on which your model is trained because for your own dataset, you will have to generate the data/images such that they are inline with those same properties and classes otherwise your network will make a lot of misclassifications. You can read up on the Fashion MNIST dataset [here](https://www.kaggle.com/zalando-research/fashionmnist): to familiarize yourself with the dataset</b>"
      ]
    },
    {
      "cell_type": "code",
      "metadata": {
        "colab": {
          "base_uri": "https://localhost:8080/"
        },
        "id": "YIRg28XDmf4K",
        "outputId": "b992796a-e827-46bd-deaa-75d915de6c25"
      },
      "source": [
        "# Mounting Google Drive here\n",
        "drive.mount('/drive')\n",
        "\n",
        "# Edit this address so that it points to the dataset's zipped file on your Google Drive\n",
        "!unzip -o -q \"/drive/MyDrive/myDataSet.zip\" -d \"/content/data/\""
      ],
      "execution_count": 301,
      "outputs": [
        {
          "output_type": "stream",
          "text": [
            "Drive already mounted at /drive; to attempt to forcibly remount, call drive.mount(\"/drive\", force_remount=True).\n"
          ],
          "name": "stdout"
        }
      ]
    },
    {
      "cell_type": "code",
      "metadata": {
        "id": "j0ll0f79mqPY"
      },
      "source": [
        "classes = 10  # do not change this\n",
        "my_X_test = None   # you must store the test images of your dataset in this varaible\n",
        "my_y_test = None   # you must store the test images' labels of your dataset in this varaible\n",
        "test_label = []\n",
        "\n",
        "###### Code Here ######\n",
        "'''Please note that you will have to extarct and one-hot encode the labels of the images for my_y_test'''\n",
        "test_data = []\n",
        "kernel = np.ones((5,5),np.uint8)\n",
        "for image in glob.glob('/content/data/myDataSet/test/*/*'):\n",
        "  test_label.append(image.split('/')[5])\n",
        "  my_image = cv2.imread(image)\n",
        "  my_image = cv2.resize(my_image,(28, 28))\n",
        "  test_data.append(my_image)\n",
        "\n",
        "i = 0\n",
        "my_y_test = np.zeros((50, 10))\n",
        "for label in test_label:\n",
        "  one_hot = [0, 0, 0, 0, 0, 0, 0, 0, 0, 0]\n",
        "  if label == \"top\":\n",
        "    one_hot[0] = 1\n",
        "    my_y_test[i] = one_hot\n",
        "    i += 1\n",
        "  elif label == \"pants\":\n",
        "    one_hot[1] = 1\n",
        "    my_y_test[i] = one_hot\n",
        "    i += 1\n",
        "  elif label == \"shirt\":\n",
        "    one_hot[6] = 1\n",
        "    my_y_test[i] = one_hot\n",
        "    i += 1\n",
        "  elif label == \"sneaker\":\n",
        "    one_hot[7] = 1\n",
        "    my_y_test[i] = one_hot\n",
        "    i += 1\n",
        "  elif label == \"bag\":\n",
        "    one_hot[8] = 1\n",
        "    my_y_test[i] = one_hot\n",
        "    i += 1\n",
        "\n",
        "\n",
        "#print(\"Number of images in the dataset: \", len(my_X_test))    # You can change len(X_test) based on your implementation such that total number of test samples is printed"
      ],
      "execution_count": 302,
      "outputs": []
    },
    {
      "cell_type": "markdown",
      "metadata": {
        "id": "u3zn9yeBnCSZ"
      },
      "source": [
        "Now you have to do the preprocessing of the images such that they are inline with the image properties of the images of Fashion MNIST dataset. This is the core task of this phase and completely dependent on your own research on preprocessing of data\n",
        "\n",
        "<b>HINT: Data Normalization is one of the ways the data is preprocessed</b>"
      ]
    },
    {
      "cell_type": "code",
      "metadata": {
        "colab": {
          "base_uri": "https://localhost:8080/"
        },
        "id": "jCYWtB7Fm_Wt",
        "outputId": "034ebe27-1efb-4412-d972-f8fdffeab8b3"
      },
      "source": [
        "'''Do data preprocessing here. Whatever you do here, please make sure that at the very end your images are in my_X_test and labels are in my_y_test'''\n",
        "###### Code Here ######\n",
        "test_data_temp = []\n",
        "lower_range = np.array([120, 150, 150])\n",
        "upper_range = np.array([255,255,255])\n",
        "for image in test_data:\n",
        "  my_image = image\n",
        "  image_mask = cv2.inRange(my_image, lower_range, upper_range)\n",
        "  image_mask = cv2.bitwise_not(image_mask, image_mask)\n",
        "  my_image = cv2.bitwise_and(my_image, my_image, mask = image_mask)\n",
        "  my_image = cv2.cvtColor(my_image, cv2.COLOR_BGR2GRAY)\n",
        "  for i in range(my_image.shape[0]):\n",
        "    for j in range(my_image.shape[1]):\n",
        "      if my_image[i][j] != 0:\n",
        "        my_image[i][j] = 255 - my_image[i][j]\n",
        "  my_image = cv2.bilateralFilter(my_image,9,75,75)\n",
        "  normalized_image = (my_image - np.mean(my_image))/np.std(my_image)\n",
        "  flatten_image = normalized_image.flatten()\n",
        "  test_data_temp.append(flatten_image)\n",
        "\n",
        "my_X_test = np.array(test_data_temp)\n",
        "\n",
        "print(\"Number of training sample: \", my_X_test.shape)\n",
        "print(\"Number of testing sample: \", my_y_test.shape)"
      ],
      "execution_count": 303,
      "outputs": [
        {
          "output_type": "stream",
          "text": [
            "Number of training sample:  (50, 784)\n",
            "Number of testing sample:  (50, 10)\n"
          ],
          "name": "stdout"
        }
      ]
    },
    {
      "cell_type": "code",
      "metadata": {
        "colab": {
          "base_uri": "https://localhost:8080/"
        },
        "id": "8oab3cwsoBat",
        "outputId": "9e2d0b0a-2799-4585-d7f5-38781de02c66"
      },
      "source": [
        "# print accuracy on your own dataset here\n",
        "print(nn.evaluate(my_X_test,my_y_test))"
      ],
      "execution_count": 304,
      "outputs": [
        {
          "output_type": "stream",
          "text": [
            "(220.0937563785384, 34.0)\n"
          ],
          "name": "stdout"
        }
      ]
    }
  ]
}